{
 "cells": [
  {
   "cell_type": "code",
   "execution_count": 18,
   "id": "62c39477-2733-4cd6-b1d1-facc4d790fa9",
   "metadata": {},
   "outputs": [
    {
     "name": "stdout",
     "output_type": "stream",
     "text": [
      "65.17216439999902\n"
     ]
    }
   ],
   "source": [
    "import time,timeit\n",
    "from random import randint\n",
    "def coin_toss(n = 10**8):\n",
    "    res = [0]*n\n",
    "    for i in range(n):\n",
    "        res[i] = randint(0,1)\n",
    "    return res\n",
    "print(timeit.timeit(coin_toss, number = 1))"
   ]
  },
  {
   "cell_type": "code",
   "execution_count": null,
   "id": "95783a3d-b1de-4e93-a081-a5627451438a",
   "metadata": {},
   "outputs": [],
   "source": []
  }
 ],
 "metadata": {
  "kernelspec": {
   "display_name": "Python 3 (ipykernel)",
   "language": "python",
   "name": "python3"
  },
  "language_info": {
   "codemirror_mode": {
    "name": "ipython",
    "version": 3
   },
   "file_extension": ".py",
   "mimetype": "text/x-python",
   "name": "python",
   "nbconvert_exporter": "python",
   "pygments_lexer": "ipython3",
   "version": "3.11.8"
  }
 },
 "nbformat": 4,
 "nbformat_minor": 5
}
