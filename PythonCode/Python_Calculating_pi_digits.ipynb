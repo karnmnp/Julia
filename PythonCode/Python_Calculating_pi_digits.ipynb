{
 "cells": [
  {
   "cell_type": "code",
   "execution_count": 8,
   "id": "9717d21c-44ba-4aa9-b8b1-e62978ffbefc",
   "metadata": {},
   "outputs": [
    {
     "name": "stdout",
     "output_type": "stream",
     "text": [
      "4.040718299998844\n"
     ]
    }
   ],
   "source": [
    "import time, timeit\n",
    "def pi_calc(n = 10**7):\n",
    "    a0 = 2**0.5\n",
    "    b0 = 0\n",
    "    p0 = 2 + 2**0.5\n",
    "    for i in range(n):\n",
    "        a1 = (a0 + a0**-0.5)/2.0\n",
    "        b1 = ((1 + b0)*(a0**0.5))/(a0 + b0)\n",
    "        p1 = ((1 + a1)*p0*b1)/(1 + b1)\n",
    "        a0 = a1\n",
    "        b0 = b1\n",
    "        p0 = p1\n",
    "print(timeit.timeit(pi_calc, number = 1))"
   ]
  },
  {
   "cell_type": "code",
   "execution_count": null,
   "id": "e76c982d-8fc0-423e-98cd-6efd03a10bc7",
   "metadata": {},
   "outputs": [],
   "source": []
  }
 ],
 "metadata": {
  "kernelspec": {
   "display_name": "Python 3 (ipykernel)",
   "language": "python",
   "name": "python3"
  },
  "language_info": {
   "codemirror_mode": {
    "name": "ipython",
    "version": 3
   },
   "file_extension": ".py",
   "mimetype": "text/x-python",
   "name": "python",
   "nbconvert_exporter": "python",
   "pygments_lexer": "ipython3",
   "version": "3.11.8"
  }
 },
 "nbformat": 4,
 "nbformat_minor": 5
}
