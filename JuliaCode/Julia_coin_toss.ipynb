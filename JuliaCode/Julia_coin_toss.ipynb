{
 "cells": [
  {
   "cell_type": "code",
   "execution_count": 14,
   "id": "73ee8c09-2ced-4599-998e-968ab36c58ad",
   "metadata": {},
   "outputs": [
    {
     "data": {
      "text/plain": [
       "coin_toss (generic function with 2 methods)"
      ]
     },
     "execution_count": 14,
     "metadata": {},
     "output_type": "execute_result"
    }
   ],
   "source": [
    "function coin_toss(n::Int64, i::Int64 = 1)\n",
    "    a = Vector{Int8}(undef, n)\n",
    "    for i in 1:n\n",
    "        a[i] = Int8(rand(0:1))\n",
    "    end\n",
    "    return a\n",
    "end"
   ]
  },
  {
   "cell_type": "code",
   "execution_count": 18,
   "id": "e44413b5-0d62-424e-b305-9ef0e0d726d9",
   "metadata": {},
   "outputs": [
    {
     "name": "stdout",
     "output_type": "stream",
     "text": [
      "  0.543962 seconds (2 allocations: 95.368 MiB)\n"
     ]
    },
    {
     "data": {
      "text/plain": [
       "100000000-element Vector{Int8}:\n",
       " 0\n",
       " 1\n",
       " 0\n",
       " 0\n",
       " 0\n",
       " 0\n",
       " 0\n",
       " 1\n",
       " 1\n",
       " 0\n",
       " 1\n",
       " 1\n",
       " 0\n",
       " ⋮\n",
       " 1\n",
       " 1\n",
       " 0\n",
       " 0\n",
       " 0\n",
       " 1\n",
       " 0\n",
       " 0\n",
       " 0\n",
       " 0\n",
       " 1\n",
       " 1"
      ]
     },
     "execution_count": 18,
     "metadata": {},
     "output_type": "execute_result"
    }
   ],
   "source": [
    "@time coin_toss(10^8)"
   ]
  },
  {
   "cell_type": "code",
   "execution_count": null,
   "id": "1c199131-8aaf-4d6a-860d-de44c18a6c75",
   "metadata": {},
   "outputs": [],
   "source": []
  }
 ],
 "metadata": {
  "kernelspec": {
   "display_name": "Julia 1.10.2",
   "language": "julia",
   "name": "julia-1.10"
  },
  "language_info": {
   "file_extension": ".jl",
   "mimetype": "application/julia",
   "name": "julia",
   "version": "1.10.2"
  }
 },
 "nbformat": 4,
 "nbformat_minor": 5
}
