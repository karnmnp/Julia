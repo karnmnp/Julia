{
 "cells": [
  {
   "cell_type": "code",
   "execution_count": 10,
   "id": "ddbb14f5-fb78-4661-812b-809e1e182f7f",
   "metadata": {},
   "outputs": [
    {
     "name": "stdout",
     "output_type": "stream",
     "text": [
      "  0.020032 seconds\n"
     ]
    }
   ],
   "source": [
    "function pi_calc(n)\n",
    "    a0 = 2^0.5\n",
    "    b0 = 0\n",
    "    p0 = 2 + 2^0.5\n",
    "    for i in 1:n\n",
    "        a1 = (a0 + a0^-0.5)/2.0\n",
    "        b1 = ((1 + b0)*(a0^0.5))/(a0 + b0)\n",
    "        p1 = ((1 + a1)*p0*b1)/(1 + b1)\n",
    "        a0 = a1\n",
    "        b0 = b1\n",
    "        p0 = p1\n",
    "    end\n",
    "end\n",
    "@time pi_calc(10^7)"
   ]
  },
  {
   "cell_type": "code",
   "execution_count": null,
   "id": "e73d8842-025a-42e8-bb3e-926f42276a94",
   "metadata": {},
   "outputs": [],
   "source": []
  }
 ],
 "metadata": {
  "kernelspec": {
   "display_name": "Julia 1.10.2",
   "language": "julia",
   "name": "julia-1.10"
  },
  "language_info": {
   "file_extension": ".jl",
   "mimetype": "application/julia",
   "name": "julia",
   "version": "1.10.2"
  }
 },
 "nbformat": 4,
 "nbformat_minor": 5
}
