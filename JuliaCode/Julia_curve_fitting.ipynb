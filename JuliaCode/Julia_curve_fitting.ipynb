{
 "cells": [
  {
   "cell_type": "code",
   "execution_count": 5,
   "id": "5a8176b1-3142-419a-8498-81c1393ae879",
   "metadata": {},
   "outputs": [
    {
     "ename": "LoadError",
     "evalue": "MethodError: no method matching +(::Vector{Float64}, ::Float64)\nFor element-wise addition, use broadcasting with dot syntax: array .+ scalar\n\n\u001b[0mClosest candidates are:\n\u001b[0m  +(::Any, ::Any, \u001b[91m::Any\u001b[39m, \u001b[91m::Any...\u001b[39m)\n\u001b[0m\u001b[90m   @\u001b[39m \u001b[90mBase\u001b[39m \u001b[90m\u001b[4moperators.jl:587\u001b[24m\u001b[39m\n\u001b[0m  +(\u001b[91m::Bool\u001b[39m, ::T) where T<:AbstractFloat\n\u001b[0m\u001b[90m   @\u001b[39m \u001b[90mBase\u001b[39m \u001b[90m\u001b[4mbool.jl:173\u001b[24m\u001b[39m\n\u001b[0m  +(\u001b[91m::BigFloat\u001b[39m, ::Union{Float16, Float32, Float64})\n\u001b[0m\u001b[90m   @\u001b[39m \u001b[90mBase\u001b[39m \u001b[90m\u001b[4mmpfr.jl:455\u001b[24m\u001b[39m\n\u001b[0m  ...\n",
     "output_type": "error",
     "traceback": [
      "MethodError: no method matching +(::Vector{Float64}, ::Float64)\nFor element-wise addition, use broadcasting with dot syntax: array .+ scalar\n\n\u001b[0mClosest candidates are:\n\u001b[0m  +(::Any, ::Any, \u001b[91m::Any\u001b[39m, \u001b[91m::Any...\u001b[39m)\n\u001b[0m\u001b[90m   @\u001b[39m \u001b[90mBase\u001b[39m \u001b[90m\u001b[4moperators.jl:587\u001b[24m\u001b[39m\n\u001b[0m  +(\u001b[91m::Bool\u001b[39m, ::T) where T<:AbstractFloat\n\u001b[0m\u001b[90m   @\u001b[39m \u001b[90mBase\u001b[39m \u001b[90m\u001b[4mbool.jl:173\u001b[24m\u001b[39m\n\u001b[0m  +(\u001b[91m::BigFloat\u001b[39m, ::Union{Float16, Float32, Float64})\n\u001b[0m\u001b[90m   @\u001b[39m \u001b[90mBase\u001b[39m \u001b[90m\u001b[4mmpfr.jl:455\u001b[24m\u001b[39m\n\u001b[0m  ...\n",
      "",
      "Stacktrace:",
      " [1] +",
      "   @ .\\operators.jl:587 [inlined]",
      " [2] model(x::StepRangeLen{Float64, Base.TwicePrecision{Float64}, Base.TwicePrecision{Float64}, Int64}, p::Vector{Float64})",
      "   @ Main .\\In[5]:6",
      " [3] top-level scope",
      "   @ In[5]:11"
     ]
    }
   ],
   "source": [
    "using Plots\n",
    "using CurveFit\n",
    "\n",
    "# Define the model function\n",
    "function model(x, p)\n",
    "    return p[1] * x .^ 2 + p[2] * x + p[3]\n",
    "end\n",
    "\n",
    "# Generate 10 points\n",
    "x_data = range(-5, 5, length=10)\n",
    "y_data = model(x_data, [1.0, -1.0, 1.0]) .+ 0.5 * randn(length(x_data))\n",
    "\n",
    "# Perform curve fitting\n",
    "fit = curve_fit(model, x_data, y_data, [1.0, 1.0, 1.0])\n",
    "\n",
    "# Extract the fitted parameters\n",
    "p_fit = fit.param\n",
    "\n",
    "# Generate fitted curve\n",
    "x_fit = range(minimum(x_data), maximum(x_data), length=100)\n",
    "y_fit = model(x_fit, p_fit)\n",
    "\n",
    "# Plot the original data and the fitted curve\n",
    "scatter(x_data, y_data, label=\"Data\", xlabel=\"x\", ylabel=\"y\", title=\"Curve Fitting\")\n",
    "plot!(x_fit, y_fit, label=\"Fitted curve\")"
   ]
  },
  {
   "cell_type": "code",
   "execution_count": null,
   "id": "61132b89-387d-4386-8b75-a982f573b109",
   "metadata": {},
   "outputs": [],
   "source": []
  }
 ],
 "metadata": {
  "kernelspec": {
   "display_name": "Julia 1.10.2",
   "language": "julia",
   "name": "julia-1.10"
  },
  "language_info": {
   "file_extension": ".jl",
   "mimetype": "application/julia",
   "name": "julia",
   "version": "1.10.2"
  }
 },
 "nbformat": 4,
 "nbformat_minor": 5
}
