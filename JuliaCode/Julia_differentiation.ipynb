{
 "cells": [
  {
   "cell_type": "code",
   "execution_count": 2,
   "id": "60260a75-903b-4c3b-b01c-60ace902c694",
   "metadata": {},
   "outputs": [
    {
     "name": "stdout",
     "output_type": "stream",
     "text": [
      "The derivative of exp(-x) at x = 1.0 is approximately -0.36787944117144233\n"
     ]
    }
   ],
   "source": [
    "using ForwardDiff\n",
    "\n",
    "# Define the function\n",
    "f(x) = exp(-x)\n",
    "\n",
    "# Define a point at which we want to evaluate the derivative\n",
    "x_point = 1.0\n",
    "\n",
    "# Compute the derivative using ForwardDiff\n",
    "df_dx = ForwardDiff.derivative(f, x_point)\n",
    "\n",
    "println(\"The derivative of exp(-x) at x = $x_point is approximately $df_dx\")\n"
   ]
  },
  {
   "cell_type": "code",
   "execution_count": null,
   "id": "18df08c1-5933-483f-bd39-6d49f51efc9a",
   "metadata": {},
   "outputs": [],
   "source": []
  }
 ],
 "metadata": {
  "kernelspec": {
   "display_name": "Julia 1.10.2",
   "language": "julia",
   "name": "julia-1.10"
  },
  "language_info": {
   "file_extension": ".jl",
   "mimetype": "application/julia",
   "name": "julia",
   "version": "1.10.2"
  }
 },
 "nbformat": 4,
 "nbformat_minor": 5
}
