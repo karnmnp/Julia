{
 "cells": [
  {
   "cell_type": "code",
   "execution_count": 9,
   "id": "8759c9b8-0be5-4111-aa5d-f45147c9e3d2",
   "metadata": {},
   "outputs": [
    {
     "name": "stdout",
     "output_type": "stream",
     "text": [
      "Numerical Integration of 1/x = 0.6931471805599453\n",
      "1.9931833961095435e-11\n",
      "ln(2) = 0.6931471805599453\n"
     ]
    }
   ],
   "source": [
    "using QuadGK\n",
    "\n",
    "integral, error = quadgk(x -> 1/x, 1, 2)\n",
    "println(\"Numerical Integration of 1/x = $integral\")\n",
    "println(error)\n",
    "println(\"ln(2) = \", log(2))\n"
   ]
  },
  {
   "cell_type": "code",
   "execution_count": null,
   "id": "7494228a-5521-4607-8b74-2c51ee3f73d3",
   "metadata": {},
   "outputs": [],
   "source": []
  }
 ],
 "metadata": {
  "kernelspec": {
   "display_name": "Julia 1.10.2",
   "language": "julia",
   "name": "julia-1.10"
  },
  "language_info": {
   "file_extension": ".jl",
   "mimetype": "application/julia",
   "name": "julia",
   "version": "1.10.2"
  }
 },
 "nbformat": 4,
 "nbformat_minor": 5
}
