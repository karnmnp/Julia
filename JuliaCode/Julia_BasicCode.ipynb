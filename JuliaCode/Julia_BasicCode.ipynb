{
 "cells": [
  {
   "cell_type": "code",
   "execution_count": 3,
   "id": "4770983a-8889-455a-9864-b38d81d07dab",
   "metadata": {},
   "outputs": [
    {
     "name": "stdout",
     "output_type": "stream",
     "text": [
      "3  0.000125 seconds (8 allocations: 184 bytes)\n"
     ]
    }
   ],
   "source": [
    "@time begin\n",
    "    x = 3\n",
    "    print(x)\n",
    "end"
   ]
  },
  {
   "cell_type": "code",
   "execution_count": 14,
   "id": "ea4a4936-fbb3-40ea-ab26-6412d1650c78",
   "metadata": {},
   "outputs": [
    {
     "name": "stdout",
     "output_type": "stream",
     "text": [
      "This is first element of array : 1"
     ]
    }
   ],
   "source": [
    "a = [1,2,3] # This is comment\n",
    "#This is line of comment\n",
    "print(\"This is first element of array : \", a[1])"
   ]
  },
  {
   "cell_type": "code",
   "execution_count": 17,
   "id": "31e4f453-8316-4fe7-ac47-6cc0526b6d1e",
   "metadata": {},
   "outputs": [
    {
     "data": {
      "text/plain": [
       "add_and_print (generic function with 1 method)"
      ]
     },
     "execution_count": 17,
     "metadata": {},
     "output_type": "execute_result"
    }
   ],
   "source": [
    "function add_and_print(a,b)\n",
    "    println(\"adding a = $a and b = $b\")\n",
    "    answer = a+b\n",
    "    println(\"result is $(a+b)\")\n",
    "    return nothing\n",
    "end"
   ]
  },
  {
   "cell_type": "code",
   "execution_count": 18,
   "id": "c325b0c0-7502-4e6a-b675-a13d96546623",
   "metadata": {},
   "outputs": [
    {
     "name": "stdout",
     "output_type": "stream",
     "text": [
      "adding a = 4 and b = 6\n",
      "result is 10\n"
     ]
    }
   ],
   "source": [
    "add_and_print(4,6)"
   ]
  },
  {
   "cell_type": "code",
   "execution_count": 19,
   "id": "ba48b12e-b3c7-4d76-8c8c-362dca386667",
   "metadata": {},
   "outputs": [],
   "source": [
    "function multiply_x_y(x, y)::Int8 # keyword ::Int8 is to specify the return type of this function\n",
    "           return x * y\n",
    "       end;"
   ]
  },
  {
   "cell_type": "code",
   "execution_count": 25,
   "id": "79957bef-ff04-449b-95f8-0ff128a821de",
   "metadata": {},
   "outputs": [
    {
     "name": "stdout",
     "output_type": "stream",
     "text": [
      "Type of 6 is Int8"
     ]
    }
   ],
   "source": [
    "a = multiply_x_y(2,3)\n",
    "print(\"Type of $a is \",typeof(a))"
   ]
  },
  {
   "cell_type": "code",
   "execution_count": 29,
   "id": "663f751c-a474-4994-996a-f7ae44d215dd",
   "metadata": {},
   "outputs": [
    {
     "name": "stdout",
     "output_type": "stream",
     "text": [
      "1\n",
      "2\n",
      "3\n"
     ]
    }
   ],
   "source": [
    "i = 1\n",
    "while i <= 3\n",
    "    println(i)\n",
    "    global i += 1\n",
    "end"
   ]
  },
  {
   "cell_type": "code",
   "execution_count": 42,
   "id": "5b1fb827-e340-438e-a979-8e4cbecca0e2",
   "metadata": {},
   "outputs": [
    {
     "name": "stdout",
     "output_type": "stream",
     "text": [
      "loop i = 1:5 means start = 1, step = 1, stop at 5\n",
      "1 2 3 4 5 end\n",
      "loop i = 0:2:10 means start = 0 , step = 2 , stop at 10\n",
      "0 2 4 6 8 10 "
     ]
    }
   ],
   "source": [
    "println(\"loop i = 1:5 means start = 1, step = 1, stop at 5\")\n",
    "for i = 1:5\n",
    "    print(i,\" \")\n",
    "end\n",
    "println(\"end\")\n",
    "println(\"loop i = 0:2:10 means start = 0 , step = 2 , stop at 10\")\n",
    "for i = 0:2:10\n",
    "    print(i,\" \")\n",
    "end\n"
   ]
  },
  {
   "cell_type": "code",
   "execution_count": 47,
   "id": "69e8957b-0b06-478c-910f-a540a3b61755",
   "metadata": {},
   "outputs": [
    {
     "name": "stdout",
     "output_type": "stream",
     "text": [
      "3 5 2 1 0 -1 "
     ]
    }
   ],
   "source": [
    "a=[3,5,2,1,0,-1]\n",
    "for i in a\n",
    "    print(i,\" \")\n",
    "end"
   ]
  },
  {
   "cell_type": "code",
   "execution_count": 49,
   "id": "c7457c84-2811-40d2-b9ab-cca1f2346d7e",
   "metadata": {},
   "outputs": [
    {
     "data": {
      "text/plain": [
       "compare_x_1 (generic function with 1 method)"
      ]
     },
     "execution_count": 49,
     "metadata": {},
     "output_type": "execute_result"
    }
   ],
   "source": [
    "function compare_x_1(x)\n",
    "    if x > 1\n",
    "        println(\"$x is more than 1.\")\n",
    "    elseif x == 1\n",
    "        println(\"$x is equal to 1.\")\n",
    "    else\n",
    "        println(\"$x is less than 1.\")\n",
    "    end\n",
    "end\n",
    "            "
   ]
  },
  {
   "cell_type": "code",
   "execution_count": 50,
   "id": "74a96ea7-7b2a-4ba4-aa5b-cc1b47fe5b98",
   "metadata": {},
   "outputs": [
    {
     "name": "stdout",
     "output_type": "stream",
     "text": [
      "5 is more than 1.\n",
      "1 is equal to 1.\n",
      "-5 is less than 1.\n"
     ]
    }
   ],
   "source": [
    "compare_x_1(5)\n",
    "compare_x_1(1)\n",
    "compare_x_1(-5)"
   ]
  },
  {
   "cell_type": "code",
   "execution_count": 51,
   "id": "2531d13d-9c44-4547-a997-976665c3613a",
   "metadata": {},
   "outputs": [
    {
     "data": {
      "text/plain": [
       "64.01915056000071"
      ]
     },
     "execution_count": 51,
     "metadata": {},
     "output_type": "execute_result"
    }
   ],
   "source": [
    "(61.385722000002716+129.0842114000006+64.45365500000116+65.17216439999902)/5"
   ]
  },
  {
   "cell_type": "code",
   "execution_count": null,
   "id": "9e19d521-2d5c-4dd8-9dad-d738589ce212",
   "metadata": {},
   "outputs": [],
   "source": []
  }
 ],
 "metadata": {
  "kernelspec": {
   "display_name": "Julia 1.10.2",
   "language": "julia",
   "name": "julia-1.10"
  },
  "language_info": {
   "file_extension": ".jl",
   "mimetype": "application/julia",
   "name": "julia",
   "version": "1.10.2"
  }
 },
 "nbformat": 4,
 "nbformat_minor": 5
}
